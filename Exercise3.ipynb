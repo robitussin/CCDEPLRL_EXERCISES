{
  "nbformat": 4,
  "nbformat_minor": 0,
  "metadata": {
    "colab": {
      "provenance": [],
      "gpuType": "T4"
    },
    "kernelspec": {
      "name": "python3",
      "display_name": "Python 3"
    },
    "language_info": {
      "name": "python"
    },
    "accelerator": "GPU"
  },
  "cells": [
    {
      "cell_type": "markdown",
      "source": [
        "# Exercise 3\n",
        "\n",
        "Create a neural network using the breast cancer dataset"
      ],
      "metadata": {
        "id": "nkO96ETeMXMc"
      }
    },
    {
      "cell_type": "code",
      "execution_count": null,
      "metadata": {
        "id": "p-kJjjPREIx2"
      },
      "outputs": [],
      "source": [
        "import tensorflow as tf"
      ]
    },
    {
      "cell_type": "markdown",
      "source": [
        "## 1. Import the dataset"
      ],
      "metadata": {
        "id": "lYDmnCNd-JV6"
      }
    },
    {
      "cell_type": "code",
      "source": [
        "# put your answer here"
      ],
      "metadata": {
        "id": "KQPbbjO09to0"
      },
      "execution_count": null,
      "outputs": []
    },
    {
      "cell_type": "markdown",
      "source": [
        "## 2. Build the neural network"
      ],
      "metadata": {
        "id": "u5v0Bfk4-L90"
      }
    },
    {
      "cell_type": "code",
      "source": [
        "# put your answer here"
      ],
      "metadata": {
        "id": "a9xJUaLPNDBa"
      },
      "execution_count": null,
      "outputs": []
    },
    {
      "cell_type": "markdown",
      "source": [
        "## 3. Compile the model\n",
        "\n",
        "- Use SGD as Optimizer\n",
        "\n",
        "- Use categorical_crossentropy as loss function\n",
        "\n",
        "- Use accuracy as metrics"
      ],
      "metadata": {
        "id": "L1T-WStI-swY"
      }
    },
    {
      "cell_type": "code",
      "source": [
        "# put your answer here"
      ],
      "metadata": {
        "id": "MZnxn9Hh9wRR"
      },
      "execution_count": null,
      "outputs": []
    },
    {
      "cell_type": "markdown",
      "source": [
        "## 4. Summarize the model\n",
        "\n",
        "- Check model layers\n",
        "- Understand number of trainable parameters"
      ],
      "metadata": {
        "id": "ur3v6HQu-5e4"
      }
    },
    {
      "cell_type": "code",
      "source": [
        "# put your answer here"
      ],
      "metadata": {
        "id": "RVrrWS1f-_Zq"
      },
      "execution_count": null,
      "outputs": []
    },
    {
      "cell_type": "markdown",
      "source": [
        "## 5. Fit the model\n"
      ],
      "metadata": {
        "id": "BZkvuSVd_Btl"
      }
    },
    {
      "cell_type": "code",
      "source": [
        "# put your answer here"
      ],
      "metadata": {
        "id": "jYD3PWx69zpo"
      },
      "execution_count": null,
      "outputs": []
    },
    {
      "cell_type": "markdown",
      "source": [
        "## 6. Evaluate the model"
      ],
      "metadata": {
        "id": "vjR1w4cc_Qt7"
      }
    },
    {
      "cell_type": "code",
      "source": [
        "# put your answer here"
      ],
      "metadata": {
        "id": "Fz9qOahX90-m"
      },
      "execution_count": null,
      "outputs": []
    },
    {
      "cell_type": "markdown",
      "source": [
        "## 7. Save the model"
      ],
      "metadata": {
        "id": "m2Dhkke__SmQ"
      }
    },
    {
      "cell_type": "code",
      "source": [
        "# put your answer here"
      ],
      "metadata": {
        "id": "6D1qyTl8914a"
      },
      "execution_count": null,
      "outputs": []
    }
  ]
}